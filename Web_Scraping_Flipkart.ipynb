{
 "cells": [
  {
   "cell_type": "code",
   "execution_count": 1,
   "metadata": {},
   "outputs": [
    {
     "name": "stdout",
     "output_type": "stream",
     "text": [
      "Product - Sony 310AP Wired Headset  (Red, Wireless over the head)\n",
      "Price - ₹849\n",
      "Rating - 4.2\n",
      "Highlights -\n",
      "> With Mic:Yes\n",
      "> Connector type: 3.5 mm\n",
      "> Foldable/ Collapsible: Designed for people always on the move, easy storage and easy to carry\n",
      "> One button universal remote allows you to answer and manage your calls effortlessly\n",
      "> well-balanced sound: hear your music as the artist intended\n",
      "1 . Rating-> 4 , Worth the money\n",
      "2 . Rating-> 4 , Good quality product\n",
      "3 . Rating-> 3 , Great one from Sony\n",
      "4 . Rating-> 3 , REVIEW IS LONG BUT IF U ARE INVESTING THEN ITS WORTH READING\n",
      "5 . Rating-> 5 , #reviewJockey(RJ Arnab Dey)\n",
      "6 . Rating-> 5 , Wonderful\n",
      "7 . Rating-> 4 , Sound is not up to my expectation.\n",
      "8 . Rating-> 5 , A good headset but not the best.\n",
      "9 . Rating-> 5 , Terrific\n"
     ]
    },
    {
     "ename": "IndexError",
     "evalue": "list index out of range",
     "output_type": "error",
     "traceback": [
      "\u001b[1;31m---------------------------------------------------------------------------\u001b[0m",
      "\u001b[1;31mIndexError\u001b[0m                                Traceback (most recent call last)",
      "\u001b[1;32m<ipython-input-1-74f650cebd79>\u001b[0m in \u001b[0;36m<module>\u001b[1;34m\u001b[0m\n\u001b[0;32m     21\u001b[0m \u001b[0mh\u001b[0m\u001b[1;33m=\u001b[0m\u001b[0mreview\u001b[0m\u001b[1;33m.\u001b[0m\u001b[0mfind_all\u001b[0m\u001b[1;33m(\u001b[0m\u001b[1;34m'div'\u001b[0m\u001b[1;33m,\u001b[0m\u001b[0mclass_\u001b[0m\u001b[1;33m=\u001b[0m\u001b[1;34m'hGSR34 E_uFuv'\u001b[0m\u001b[1;33m)\u001b[0m\u001b[1;33m\u001b[0m\u001b[1;33m\u001b[0m\u001b[0m\n\u001b[0;32m     22\u001b[0m \u001b[1;32mfor\u001b[0m \u001b[0mj\u001b[0m \u001b[1;32min\u001b[0m \u001b[0mrange\u001b[0m\u001b[1;33m(\u001b[0m\u001b[0mlen\u001b[0m\u001b[1;33m(\u001b[0m\u001b[0mg\u001b[0m\u001b[1;33m)\u001b[0m\u001b[1;33m)\u001b[0m\u001b[1;33m:\u001b[0m\u001b[1;33m\u001b[0m\u001b[1;33m\u001b[0m\u001b[0m\n\u001b[1;32m---> 23\u001b[1;33m     \u001b[0mprint\u001b[0m\u001b[1;33m(\u001b[0m\u001b[0mj\u001b[0m\u001b[1;33m+\u001b[0m\u001b[1;36m1\u001b[0m\u001b[1;33m,\u001b[0m\u001b[1;34m'.'\u001b[0m\u001b[1;33m,\u001b[0m\u001b[1;34m'Rating->'\u001b[0m\u001b[1;33m,\u001b[0m\u001b[0mh\u001b[0m\u001b[1;33m[\u001b[0m\u001b[0mj\u001b[0m\u001b[1;33m]\u001b[0m\u001b[1;33m.\u001b[0m\u001b[0mtext\u001b[0m\u001b[1;33m,\u001b[0m\u001b[1;34m','\u001b[0m\u001b[1;33m,\u001b[0m\u001b[0mg\u001b[0m\u001b[1;33m[\u001b[0m\u001b[0mj\u001b[0m\u001b[1;33m]\u001b[0m\u001b[1;33m.\u001b[0m\u001b[0mtext\u001b[0m\u001b[1;33m)\u001b[0m\u001b[1;33m\u001b[0m\u001b[1;33m\u001b[0m\u001b[0m\n\u001b[0m",
      "\u001b[1;31mIndexError\u001b[0m: list index out of range"
     ]
    }
   ],
   "source": [
    "import urllib.request as req\n",
    "import bs4\n",
    "response=req.urlopen('https://www.flipkart.com/sony-310ap-wired-headset-mic/p/itmf3vhghxkwfpct?pid=ACCDQZAU6GBRWYXD&lid=LSTACCDQZAU6GBRWYXDGQKYNL&marketplace=FLIPKART&srno=b_1_38&otracker=browse&fm=organic&iid=cfa9c688-da92-49ee-8254-5e9a3ebd3869.ACCDQZAU6GBRWYXD.SEARCH&ppt=browse&ppn=browse')\n",
    "page=bs4.BeautifulSoup(response)\n",
    "a=page.find('span',class_=\"_35KyD6\")\n",
    "b=page.find('div',class_=\"_1vC4OE _3qQ9m1\")\n",
    "c=page.find('div',class_=\"_1i0wk8\")\n",
    "d=page.find_all('li',class_=\"_2-riNZ\")\n",
    "print(\"Product\",a.text,sep=\" - \")\n",
    "print(\"Price\",b.text,sep=\" - \")\n",
    "print(\"Rating\",c.text,sep=\" - \")\n",
    "print(\"Highlights -\")\n",
    "for i in range(len(d)):\n",
    "    print(\">\",d[i].text)\n",
    "f=page.find('a',href=\"/sony-310ap-wired-headset-mic/product-reviews/itmf3vhghxkwfpct?pid=ACCDQZAU6GBRWYXD\",class_='swINJg _3nrCtb')\n",
    "e=page.find('div',class_='col _39LH-M')\n",
    "f = e.find_all('a')\n",
    "m = req.urlopen('https://www.flipkart.com' + f[-1]['href'])\n",
    "review=bs4.BeautifulSoup(m)\n",
    "g=review.find_all('p',class_='_2xg6Ul')\n",
    "h=review.find_all('div',class_='hGSR34 E_uFuv')\n",
    "for j in range(len(g)):\n",
    "    print(j+1,'.','Rating->',h[j].text,',',g[j].text) "
   ]
  },
  {
   "cell_type": "code",
   "execution_count": null,
   "metadata": {},
   "outputs": [],
   "source": []
  }
 ],
 "metadata": {
  "kernelspec": {
   "display_name": "Python 3",
   "language": "python",
   "name": "python3"
  },
  "language_info": {
   "codemirror_mode": {
    "name": "ipython",
    "version": 3
   },
   "file_extension": ".py",
   "mimetype": "text/x-python",
   "name": "python",
   "nbconvert_exporter": "python",
   "pygments_lexer": "ipython3",
   "version": "3.7.6"
  }
 },
 "nbformat": 4,
 "nbformat_minor": 4
}
